{
 "cells": [
  {
   "cell_type": "code",
   "execution_count": 1,
   "metadata": {
    "collapsed": false
   },
   "outputs": [],
   "source": []
  },
  {
   "cell_type": "code",
   "execution_count": 2,
   "metadata": {
    "collapsed": false
   },
   "outputs": [
    {
     "data": {
      "text/plain": [
       "3"
      ]
     },
     "execution_count": 2,
     "metadata": {},
     "output_type": "execute_result"
    }
   ],
   "source": [
    "x = 3"
   ]
  },
  {
   "cell_type": "code",
   "execution_count": 3,
   "metadata": {
    "collapsed": false
   },
   "outputs": [
    {
     "data": {
      "text/plain": [
       "Int64"
      ]
     },
     "execution_count": 3,
     "metadata": {},
     "output_type": "execute_result"
    }
   ],
   "source": [
    "typeof(x)"
   ]
  },
  {
   "cell_type": "code",
   "execution_count": 4,
   "metadata": {
    "collapsed": false
   },
   "outputs": [
    {
     "data": {
      "text/plain": [
       "1.5"
      ]
     },
     "execution_count": 4,
     "metadata": {},
     "output_type": "execute_result"
    }
   ],
   "source": [
    "y = x/2"
   ]
  },
  {
   "cell_type": "code",
   "execution_count": 5,
   "metadata": {
    "collapsed": false
   },
   "outputs": [
    {
     "data": {
      "text/plain": [
       "Float64"
      ]
     },
     "execution_count": 5,
     "metadata": {},
     "output_type": "execute_result"
    }
   ],
   "source": [
    "typeof(y)"
   ]
  },
  {
   "cell_type": "code",
   "execution_count": null,
   "metadata": {
    "collapsed": false
   },
   "outputs": [],
   "source": []
  },
  {
   "cell_type": "code",
   "execution_count": 45,
   "metadata": {
    "collapsed": false
   },
   "outputs": [
    {
     "data": {
      "text/plain": [
       "test2 (generic function with 1 method)"
      ]
     },
     "execution_count": 45,
     "metadata": {},
     "output_type": "execute_result"
    }
   ],
   "source": [
    "function test1(x)\n",
    "    for i = 1:10000000\n",
    "        x += x/100\n",
    "    end\n",
    "    return x\n",
    "end\n",
    "\n",
    "function test2(x)    \n",
    "    for i = 1:10000000\n",
    "        x += x/100\n",
    "    end\n",
    "    return x\n",
    "end"
   ]
  },
  {
   "cell_type": "code",
   "execution_count": 46,
   "metadata": {
    "collapsed": false
   },
   "outputs": [
    {
     "data": {
      "text/plain": [
       "true"
      ]
     },
     "execution_count": 46,
     "metadata": {},
     "output_type": "execute_result"
    }
   ],
   "source": [
    "test1(8) == test2(8)"
   ]
  },
  {
   "cell_type": "code",
   "execution_count": 47,
   "metadata": {
    "collapsed": false
   },
   "outputs": [
    {
     "name": "stdout",
     "output_type": "stream",
     "text": [
      "elapsed time: 2.624519896 seconds (320000128 bytes allocated, 45.58% gc time)\n",
      "elapsed time: 0.07367263 seconds (74000 bytes allocated)\n"
     ]
    }
   ],
   "source": [
    "@time test1(1)\n",
    "@time test2(1.0);"
   ]
  },
  {
   "cell_type": "code",
   "execution_count": 48,
   "metadata": {
    "collapsed": false
   },
   "outputs": [
    {
     "name": "stdout",
     "output_type": "stream",
     "text": [
      "\t.text\n",
      "Filename: In[45]\n",
      "Source line: 2\n",
      "\tpush\tRBP\n",
      "\tmov\tRBP, RSP\n",
      "\tpush\tR14\n",
      "\tpush\tRSI\n",
      "\tpush\tRDI\n",
      "\tpush\tRBX\n",
      "\tsub\tRSP, 80\n",
      "\tmov\tQWORD PTR [RBP - 80], 8\n",
      "Source line: 2\n",
      "\tmovabs\tRAX, 1824754960\n",
      "\tmov\tRDX, QWORD PTR [RAX]\n",
      "\tmov\tQWORD PTR [RBP - 72], RDX\n",
      "\tlea\tRDX, QWORD PTR [RBP - 80]\n",
      "\tmov\tQWORD PTR [RAX], RDX\n",
      "\txorps\tXMM0, XMM0\n",
      "\tmovups\tXMMWORD PTR [RBP - 64], XMM0\n",
      "\tmovups\tXMMWORD PTR [RBP - 48], XMM0\n",
      "\tmovabs\tRAX, 1811473728\n",
      "\tcall\tRAX\n",
      "\tmov\tEBX, 10000000\n",
      "\tlea\tR14, QWORD PTR [RBP - 48]\n",
      "\tlea\tRDI, QWORD PTR [RBP - 56]\n",
      "\tmov\tQWORD PTR [RBP - 64], RAX\n",
      "Source line: 3\n",
      "\tmovabs\tRSI, 1811228624\n",
      "\tmov\tQWORD PTR [RBP - 56], RAX\n",
      "\tmov\tRAX, QWORD PTR [RBP - 64]\n",
      "\tmov\tQWORD PTR [RBP - 48], RAX\n",
      "\tmov\tQWORD PTR [RBP - 40], 51367168\n",
      "\tmov\tECX, 72625696\n",
      "\tmov\tRDX, R14\n",
      "\tmov\tR8D, 2\n",
      "\tcall\tRSI\n",
      "\tmov\tQWORD PTR [RBP - 48], RAX\n",
      "\tmov\tECX, 70426528\n",
      "\tmov\tRDX, RDI\n",
      "\tmov\tR8D, 2\n",
      "\tcall\tRSI\n",
      "\tdec\tRBX\n",
      "\tmov\tQWORD PTR [RBP - 64], RAX\n",
      "\tjne\t-69\n",
      "Source line: 5\n",
      "\tmov\tRCX, QWORD PTR [RBP - 72]\n",
      "\tmovabs\tRDX, 1824754960\n",
      "\tmov\tQWORD PTR [RDX], RCX\n",
      "\tadd\tRSP, 80\n",
      "\tpop\tRBX\n",
      "\tpop\tRDI\n",
      "\tpop\tRSI\n",
      "\tpop\tR14\n",
      "\tpop\tRBP\n",
      "\tret\n"
     ]
    }
   ],
   "source": [
    "code_native(test1, (Int,))"
   ]
  },
  {
   "cell_type": "code",
   "execution_count": 49,
   "metadata": {
    "collapsed": false
   },
   "outputs": [
    {
     "name": "stdout",
     "output_type": "stream",
     "text": [
      "\t.text\n",
      "Filename: In[45]\n",
      "Source line: 10\n",
      "\tpush\tRBP\n",
      "\tmov\tRBP, RSP\n",
      "\tmov\tEAX, 10000000\n",
      "\tmovabs\tRCX, 220724464\n",
      "\tmovsd\tXMM1, QWORD PTR [RCX]\n",
      "Source line: 10\n",
      "\tmovaps\tXMM2, XMM0\n",
      "\tdivsd\tXMM2, XMM1\n",
      "\tdec\tRAX\n",
      "\taddsd\tXMM0, XMM2\n",
      "\tjne\t-20\n",
      "Source line: 12\n",
      "\tpop\tRBP\n",
      "\tret\n"
     ]
    }
   ],
   "source": [
    "code_native(test2, (Float64,))"
   ]
  },
  {
   "cell_type": "markdown",
   "metadata": {
    "collapsed": false
   },
   "source": [
    "Definicion de funciones."
   ]
  },
  {
   "cell_type": "code",
   "execution_count": 50,
   "metadata": {
    "collapsed": false
   },
   "outputs": [
    {
     "data": {
      "text/plain": [
       "g (generic function with 1 method)"
      ]
     },
     "execution_count": 50,
     "metadata": {},
     "output_type": "execute_result"
    }
   ],
   "source": [
    "f(x) = 2x^2 + 3x + 1\n",
    "g(x) = f(x) - x^2"
   ]
  },
  {
   "cell_type": "code",
   "execution_count": 51,
   "metadata": {
    "collapsed": false
   },
   "outputs": [
    {
     "data": {
      "text/plain": [
       "66"
      ]
     },
     "execution_count": 51,
     "metadata": {},
     "output_type": "execute_result"
    }
   ],
   "source": [
    "f(5)"
   ]
  },
  {
   "cell_type": "code",
   "execution_count": 52,
   "metadata": {
    "collapsed": false
   },
   "outputs": [
    {
     "data": {
      "text/plain": [
       "11.71"
      ]
     },
     "execution_count": 52,
     "metadata": {},
     "output_type": "execute_result"
    }
   ],
   "source": [
    "g(2.1)"
   ]
  },
  {
   "cell_type": "markdown",
   "metadata": {},
   "source": [
    "unicode"
   ]
  },
  {
   "cell_type": "code",
   "execution_count": 55,
   "metadata": {
    "collapsed": false
   },
   "outputs": [
    {
     "data": {
      "text/plain": [
       "20"
      ]
     },
     "execution_count": 55,
     "metadata": {},
     "output_type": "execute_result"
    }
   ],
   "source": [
    "Q̇′₂ = 20"
   ]
  },
  {
   "cell_type": "code",
   "execution_count": 54,
   "metadata": {
    "collapsed": false
   },
   "outputs": [
    {
     "data": {
      "text/plain": [
       "861"
      ]
     },
     "execution_count": 54,
     "metadata": {},
     "output_type": "execute_result"
    }
   ],
   "source": [
    "f(Q̇′₂)"
   ]
  },
  {
   "cell_type": "markdown",
   "metadata": {},
   "source": [
    "Números racionales, números complejos, BigNums, etc...\n",
    "\n",
    "Vayamos a algo un poco más interesante: Arrays!"
   ]
  },
  {
   "cell_type": "code",
   "execution_count": 56,
   "metadata": {
    "collapsed": false
   },
   "outputs": [
    {
     "data": {
      "text/plain": [
       "3-element Array{Int64,1}:\n",
       " 1\n",
       " 2\n",
       " 3"
      ]
     },
     "execution_count": 56,
     "metadata": {},
     "output_type": "execute_result"
    }
   ],
   "source": [
    "l = [1,2,3] #todos Int --> Array de Ints"
   ]
  },
  {
   "cell_type": "code",
   "execution_count": 57,
   "metadata": {
    "collapsed": false
   },
   "outputs": [
    {
     "data": {
      "text/plain": [
       "3-element Array{Float64,1}:\n",
       " 1.0\n",
       " 2.0\n",
       " 3.0"
      ]
     },
     "execution_count": 57,
     "metadata": {},
     "output_type": "execute_result"
    }
   ],
   "source": [
    "l = [1,2,3.0]"
   ]
  },
  {
   "cell_type": "code",
   "execution_count": 59,
   "metadata": {
    "collapsed": false
   },
   "outputs": [
    {
     "data": {
      "text/plain": [
       "3-element Array{Any,1}:\n",
       " 1      \n",
       " 2      \n",
       "  \"tres\""
      ]
     },
     "execution_count": 59,
     "metadata": {},
     "output_type": "execute_result"
    }
   ],
   "source": [
    "m = [1,2,\"tres\"]"
   ]
  },
  {
   "cell_type": "code",
   "execution_count": 60,
   "metadata": {
    "collapsed": false
   },
   "outputs": [
    {
     "data": {
      "text/plain": [
       "1x3 Array{Int64,2}:\n",
       " 1  2  3"
      ]
     },
     "execution_count": 60,
     "metadata": {},
     "output_type": "execute_result"
    }
   ],
   "source": [
    "v = [1 2 3] #Vector \"fila\" ya es bi-dimensional... Siempre que se pueda, trabajar con unidimensionales."
   ]
  },
  {
   "cell_type": "markdown",
   "metadata": {},
   "source": [
    "Indexing"
   ]
  },
  {
   "cell_type": "code",
   "execution_count": 62,
   "metadata": {
    "collapsed": false
   },
   "outputs": [
    {
     "ename": "LoadError",
     "evalue": "BoundsError()\nwhile loading In[62], in expression starting on line 1",
     "output_type": "error",
     "traceback": [
      "BoundsError()\nwhile loading In[62], in expression starting on line 1",
      "",
      " in getindex at array.jl:246 (repeats 2 times)"
     ]
    }
   ],
   "source": [
    "l[0]"
   ]
  },
  {
   "cell_type": "code",
   "execution_count": 61,
   "metadata": {
    "collapsed": false
   },
   "outputs": [
    {
     "ename": "LoadError",
     "evalue": "BoundsError()\nwhile loading In[61], in expression starting on line 1",
     "output_type": "error",
     "traceback": [
      "BoundsError()\nwhile loading In[61], in expression starting on line 1",
      "",
      " in getindex at array.jl:246 (repeats 2 times)"
     ]
    }
   ],
   "source": [
    "l[-1]"
   ]
  },
  {
   "cell_type": "code",
   "execution_count": 62,
   "metadata": {
    "collapsed": false
   },
   "outputs": [
    {
     "data": {
      "text/plain": [
       "1.0"
      ]
     },
     "execution_count": 62,
     "metadata": {},
     "output_type": "execute_result"
    }
   ],
   "source": [
    "l[1]"
   ]
  },
  {
   "cell_type": "code",
   "execution_count": 144,
   "metadata": {
    "collapsed": false
   },
   "outputs": [
    {
     "data": {
      "text/plain": [
       "4.0"
      ]
     },
     "execution_count": 144,
     "metadata": {},
     "output_type": "execute_result"
    }
   ],
   "source": [
    "l[end] #slicing, etc..."
   ]
  },
  {
   "cell_type": "markdown",
   "metadata": {},
   "source": [
    "Array comprehensions..."
   ]
  },
  {
   "cell_type": "code",
   "execution_count": 63,
   "metadata": {
    "collapsed": false
   },
   "outputs": [
    {
     "data": {
      "text/plain": [
       "5-element Array{Int64,1}:\n",
       "  1\n",
       "  9\n",
       " 25\n",
       " 49\n",
       " 81"
      ]
     },
     "execution_count": 63,
     "metadata": {},
     "output_type": "execute_result"
    }
   ],
   "source": [
    "[i^2 for i in 1:2:10]"
   ]
  },
  {
   "cell_type": "code",
   "execution_count": 64,
   "metadata": {
    "collapsed": false
   },
   "outputs": [
    {
     "data": {
      "text/plain": [
       "5-element Array{Int64,1}:\n",
       "  15\n",
       "  45\n",
       "  91\n",
       " 153\n",
       " 231"
      ]
     },
     "execution_count": 64,
     "metadata": {},
     "output_type": "execute_result"
    }
   ],
   "source": [
    "[f(i) for i in 2:2:10]"
   ]
  },
  {
   "cell_type": "markdown",
   "metadata": {},
   "source": [
    "Arrays son dinámicos, podemos agregar y quitar elementos...\n",
    "\n",
    "Pero acá viene LA diferencia con python.\n",
    "\n",
    "En python haríamos: l.append(4)\n",
    "\n",
    "En Julia la función push! sería al append de Python, con la diferencia que en Julia no tenemos métodos aplicados a objetos, sino usamos funciones y en enviamos el objeto como argumento de la función.\n",
    "\n",
    "El signo de exclamación indica que la función modifica el argumento."
   ]
  },
  {
   "cell_type": "code",
   "execution_count": 65,
   "metadata": {
    "collapsed": false
   },
   "outputs": [
    {
     "data": {
      "text/plain": [
       "4-element Array{Float64,1}:\n",
       " 1.0\n",
       " 2.0\n",
       " 3.0\n",
       " 4.0"
      ]
     },
     "execution_count": 65,
     "metadata": {},
     "output_type": "execute_result"
    }
   ],
   "source": [
    "push!(l,4)"
   ]
  },
  {
   "cell_type": "markdown",
   "metadata": {},
   "source": [
    "En general en lenguajes OO como python tenemos:\n",
    "\n",
    "object.method(arg1, arg2)\n",
    "\n",
    "Y dependiendo del tipo de object solamente, el runtime va a \"despachar\" un método para ese objeto. Ésto se llama SINGLE DISPATCH\n",
    "\n",
    "En julia no existe la sintaxis punto, justamente para marcar la diferencia... la misma expresión sería:\n",
    "\n",
    "method(object, arg1, arg2)\n",
    "\n",
    "El runtime elige el método a ejectuar en base a TODOS los argumentos. Por eso (MULTIPLE).\n",
    "\n",
    "Y la idea es que el compilador JIT va a compilar una versión exclusiva de la función para la función con los argumentos que estamos usando... Por ejemplo si queremos ver todos los métodos de * hacemos methods(*)"
   ]
  },
  {
   "cell_type": "code",
   "execution_count": 68,
   "metadata": {
    "collapsed": false
   },
   "outputs": [],
   "source": [
    "methods(*);"
   ]
  },
  {
   "cell_type": "code",
   "execution_count": null,
   "metadata": {
    "collapsed": false
   },
   "outputs": [],
   "source": []
  },
  {
   "cell_type": "code",
   "execution_count": 69,
   "metadata": {
    "collapsed": false
   },
   "outputs": [
    {
     "data": {
      "text/plain": [
       "4-element Array{Float64,1}:\n",
       " 1.1\n",
       " 2.2\n",
       " 3.3\n",
       " 4.4"
      ]
     },
     "execution_count": 69,
     "metadata": {},
     "output_type": "execute_result"
    }
   ],
   "source": [
    "k = [1.1,2.2,3.3,4.4]"
   ]
  },
  {
   "cell_type": "code",
   "execution_count": 70,
   "metadata": {
    "collapsed": false
   },
   "outputs": [
    {
     "data": {
      "text/plain": [
       "4-element Array{Float64,1}:\n",
       " 2.1\n",
       " 4.2\n",
       " 6.3\n",
       " 8.4"
      ]
     },
     "execution_count": 70,
     "metadata": {},
     "output_type": "execute_result"
    }
   ],
   "source": [
    "l+k #suma de vectores"
   ]
  },
  {
   "cell_type": "code",
   "execution_count": 71,
   "metadata": {
    "collapsed": false
   },
   "outputs": [
    {
     "data": {
      "text/plain": [
       "4-element Array{Float64,1}:\n",
       " 2.2\n",
       " 4.4\n",
       " 6.6\n",
       " 8.8"
      ]
     },
     "execution_count": 71,
     "metadata": {},
     "output_type": "execute_result"
    }
   ],
   "source": [
    "2*k #un escalar por un vector"
   ]
  },
  {
   "cell_type": "code",
   "execution_count": 72,
   "metadata": {
    "collapsed": false
   },
   "outputs": [
    {
     "ename": "LoadError",
     "evalue": "`*` has no method matching *(::Array{Float64,1}, ::Array{Float64,1})\nwhile loading In[72], in expression starting on line 1",
     "output_type": "error",
     "traceback": [
      "`*` has no method matching *(::Array{Float64,1}, ::Array{Float64,1})\nwhile loading In[72], in expression starting on line 1",
      ""
     ]
    }
   ],
   "source": [
    "l*k #vector por vector no funciona..."
   ]
  },
  {
   "cell_type": "code",
   "execution_count": 73,
   "metadata": {
    "collapsed": false
   },
   "outputs": [
    {
     "data": {
      "text/plain": [
       "4-element Array{Float64,1}:\n",
       "  1.1\n",
       "  4.4\n",
       "  9.9\n",
       " 17.6"
      ]
     },
     "execution_count": 73,
     "metadata": {},
     "output_type": "execute_result"
    }
   ],
   "source": [
    "l.*k #elemento a elemento tipo MATLAB"
   ]
  },
  {
   "cell_type": "code",
   "execution_count": 74,
   "metadata": {
    "collapsed": false
   },
   "outputs": [
    {
     "data": {
      "text/plain": [
       "33.0"
      ]
     },
     "execution_count": 74,
     "metadata": {},
     "output_type": "execute_result"
    }
   ],
   "source": [
    "l⋅k #producto escalar (producto punto) \\cdot o la función dot()"
   ]
  },
  {
   "cell_type": "code",
   "execution_count": 75,
   "metadata": {
    "collapsed": false
   },
   "outputs": [
    {
     "data": {
      "text/plain": [
       "3-element Array{Float64,1}:\n",
       " -8.88178e-16\n",
       "  4.44089e-16\n",
       "  0.0        "
      ]
     },
     "execution_count": 75,
     "metadata": {},
     "output_type": "execute_result"
    }
   ],
   "source": [
    "l×k #producto vectorial (producto cruz) \\times o la función cross()"
   ]
  },
  {
   "cell_type": "markdown",
   "metadata": {},
   "source": [
    "Matrices"
   ]
  },
  {
   "cell_type": "code",
   "execution_count": 76,
   "metadata": {
    "collapsed": false
   },
   "outputs": [
    {
     "data": {
      "text/plain": [
       "5x5 Array{Float64,2}:\n",
       " 0.0688088  0.245438   0.102936  0.41199   0.605915\n",
       " 0.269027   0.921623   0.946929  0.656772  0.742742\n",
       " 0.648808   0.67573    0.871878  0.579844  0.370569\n",
       " 0.570525   0.0789176  0.302502  0.393002  0.323768\n",
       " 0.104179   0.159569   0.329741  0.572376  0.124884"
      ]
     },
     "execution_count": 76,
     "metadata": {},
     "output_type": "execute_result"
    }
   ],
   "source": [
    "M = rand(5,5)"
   ]
  },
  {
   "cell_type": "code",
   "execution_count": 77,
   "metadata": {
    "collapsed": false
   },
   "outputs": [
    {
     "data": {
      "text/plain": [
       "5x5 Array{Float64,2}:\n",
       "  1.37618   4.90876   2.05871   8.2398   12.1183 \n",
       "  5.38054  18.4325   18.9386   13.1354   14.8548 \n",
       " 12.9762   13.5146   17.4376   11.5969    7.41138\n",
       " 11.4105    1.57835   6.05003   7.86004   6.47536\n",
       "  2.08357   3.19138   6.59483  11.4475    2.49767"
      ]
     },
     "execution_count": 77,
     "metadata": {},
     "output_type": "execute_result"
    }
   ],
   "source": [
    "20.*M"
   ]
  },
  {
   "cell_type": "code",
   "execution_count": 78,
   "metadata": {
    "collapsed": false
   },
   "outputs": [
    {
     "data": {
      "text/plain": [
       "-0.014554540266832438"
      ]
     },
     "execution_count": 78,
     "metadata": {},
     "output_type": "execute_result"
    }
   ],
   "source": [
    "det(M)"
   ]
  },
  {
   "cell_type": "code",
   "execution_count": 79,
   "metadata": {
    "collapsed": false
   },
   "outputs": [
    {
     "data": {
      "text/plain": [
       "2.441174534951188"
      ]
     },
     "execution_count": 79,
     "metadata": {},
     "output_type": "execute_result"
    }
   ],
   "source": [
    "norm(M)"
   ]
  },
  {
   "cell_type": "code",
   "execution_count": 80,
   "metadata": {
    "collapsed": false
   },
   "outputs": [
    {
     "data": {
      "text/plain": [
       "(\n",
       "5x5 Array{Float64,2}:\n",
       " 1.0        0.0         0.0        0.0       0.0\n",
       " 0.414648   1.0         0.0        0.0       0.0\n",
       " 0.106054   0.270916    1.0        0.0       0.0\n",
       " 0.160569   0.0796147  -0.96632    1.0       0.0\n",
       " 0.879342  -0.803328   -0.0411572  0.336424  1.0,\n",
       "\n",
       "5x5 Array{Float64,2}:\n",
       " 0.648808  0.67573    0.871878  0.579844  0.370569\n",
       " 0.0       0.641433   0.585407  0.416341  0.589087\n",
       " 0.0       0.0       -0.148127  0.237702  0.407022\n",
       " 0.0       0.0        0.0       0.67582   0.411795\n",
       " 0.0       0.0        0.0       0.0       0.349355,\n",
       "\n",
       "[3,2,1,5,4])"
      ]
     },
     "execution_count": 80,
     "metadata": {},
     "output_type": "execute_result"
    }
   ],
   "source": [
    "lu(M)"
   ]
  },
  {
   "cell_type": "code",
   "execution_count": 81,
   "metadata": {
    "collapsed": false
   },
   "outputs": [
    {
     "name": "stderr",
     "output_type": "stream",
     "text": [
      "INFO: Loading help data...\n"
     ]
    },
    {
     "name": "stdout",
     "output_type": "stream",
     "text": [
      "Base.lu(A) -> L, U, p\n",
      "\n",
      "   Compute the LU factorization of \"A\", such that \"A[p,:] = L*U\".\n"
     ]
    }
   ],
   "source": [
    "?lu"
   ]
  },
  {
   "cell_type": "code",
   "execution_count": 82,
   "metadata": {
    "collapsed": false
   },
   "outputs": [
    {
     "data": {
      "text/plain": [
       "5x5 Array{Float64,2}:\n",
       " 1.0        0.0         0.0        0.0       0.0\n",
       " 0.414648   1.0         0.0        0.0       0.0\n",
       " 0.106054   0.270916    1.0        0.0       0.0\n",
       " 0.160569   0.0796147  -0.96632    1.0       0.0\n",
       " 0.879342  -0.803328   -0.0411572  0.336424  1.0"
      ]
     },
     "execution_count": 82,
     "metadata": {},
     "output_type": "execute_result"
    }
   ],
   "source": [
    "lu(M)[1]"
   ]
  },
  {
   "cell_type": "markdown",
   "metadata": {},
   "source": [
    "Array comprehensions para matrices."
   ]
  },
  {
   "cell_type": "code",
   "execution_count": 83,
   "metadata": {
    "collapsed": false
   },
   "outputs": [
    {
     "data": {
      "text/plain": [
       "5x5 Array{Float64,2}:\n",
       " 2.0  3.0  4.0  5.0   6.0\n",
       " 3.0  4.0  5.0  6.0   7.0\n",
       " 4.0  5.0  6.0  7.0   8.0\n",
       " 5.0  6.0  7.0  8.0   9.0\n",
       " 6.0  7.0  8.0  9.0  10.0"
      ]
     },
     "execution_count": 83,
     "metadata": {},
     "output_type": "execute_result"
    }
   ],
   "source": [
    "[i+j for i=1:5.0, j=1:5]"
   ]
  },
  {
   "cell_type": "markdown",
   "metadata": {},
   "source": [
    "Desvectorización!!! WhaT!?"
   ]
  },
  {
   "cell_type": "code",
   "execution_count": 84,
   "metadata": {
    "collapsed": false
   },
   "outputs": [],
   "source": [
    "#Vector de numeros aleatorios de longitud 100000\n",
    "x=rand(10000000);"
   ]
  },
  {
   "cell_type": "code",
   "execution_count": 85,
   "metadata": {
    "collapsed": false
   },
   "outputs": [],
   "source": [
    "y=rand(10000000);"
   ]
  },
  {
   "cell_type": "code",
   "execution_count": 86,
   "metadata": {
    "collapsed": false
   },
   "outputs": [
    {
     "data": {
      "text/plain": [
       "test3 (generic function with 1 method)"
      ]
     },
     "execution_count": 86,
     "metadata": {},
     "output_type": "execute_result"
    }
   ],
   "source": [
    "function test3(x,y)\n",
    "    r = exp(-abs(x-y));\n",
    "    return r\n",
    "end"
   ]
  },
  {
   "cell_type": "code",
   "execution_count": 90,
   "metadata": {
    "collapsed": false
   },
   "outputs": [
    {
     "name": "stdout",
     "output_type": "stream",
     "text": [
      "elapsed time: 1.297108572 seconds (320000456 bytes allocated, 33.45% gc time)\n"
     ]
    }
   ],
   "source": [
    "@time t3 = test3(x,y);"
   ]
  },
  {
   "cell_type": "code",
   "execution_count": 88,
   "metadata": {
    "collapsed": false
   },
   "outputs": [
    {
     "data": {
      "text/plain": [
       "test4 (generic function with 1 method)"
      ]
     },
     "execution_count": 88,
     "metadata": {},
     "output_type": "execute_result"
    }
   ],
   "source": [
    "function test4(x,y)\n",
    "    r = similar(x) #pre-alocalizo en memoria;\n",
    "    for i = 1:length(x)\n",
    "        r[i] = exp(-abs(x[i]-y[i]))\n",
    "    end\n",
    "    return r\n",
    "end"
   ]
  },
  {
   "cell_type": "code",
   "execution_count": 91,
   "metadata": {
    "collapsed": false
   },
   "outputs": [
    {
     "name": "stdout",
     "output_type": "stream",
     "text": [
      "elapsed time: 0.631545211 seconds (80000192 bytes allocated, 22.16% gc time)\n"
     ]
    }
   ],
   "source": [
    "@time t4 = test4(x,y);"
   ]
  },
  {
   "cell_type": "code",
   "execution_count": 92,
   "metadata": {
    "collapsed": false
   },
   "outputs": [
    {
     "data": {
      "text/plain": [
       "true"
      ]
     },
     "execution_count": 92,
     "metadata": {},
     "output_type": "execute_result"
    }
   ],
   "source": [
    "t3 == t4"
   ]
  },
  {
   "cell_type": "code",
   "execution_count": null,
   "metadata": {
    "collapsed": true
   },
   "outputs": [],
   "source": []
  }
 ],
 "metadata": {
  "kernelspec": {
   "display_name": "Julia 0.3.8",
   "language": "julia",
   "name": "julia-0.3"
  },
  "language_info": {
   "name": "julia",
   "version": "0.3.8"
  }
 },
 "nbformat": 4,
 "nbformat_minor": 0
}
